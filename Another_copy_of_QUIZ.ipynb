{
  "nbformat": 4,
  "nbformat_minor": 0,
  "metadata": {
    "colab": {
      "provenance": [],
      "authorship_tag": "ABX9TyNvdH1JlXfHsU/ferUHHFfE",
      "include_colab_link": true
    },
    "kernelspec": {
      "name": "python3",
      "display_name": "Python 3"
    },
    "language_info": {
      "name": "python"
    }
  },
  "cells": [
    {
      "cell_type": "markdown",
      "metadata": {
        "id": "view-in-github",
        "colab_type": "text"
      },
      "source": [
        "<a href=\"https://colab.research.google.com/github/hannahdirecto/CPE-201L-DSA-2-A/blob/main/Another_copy_of_QUIZ.ipynb\" target=\"_parent\"><img src=\"https://colab.research.google.com/assets/colab-badge.svg\" alt=\"Open In Colab\"/></a>"
      ]
    },
    {
      "cell_type": "code",
      "source": [
        "class Queue:\n",
        "    def __init__(self):\n",
        "        self.queue = []\n",
        "\n",
        "    def enqueue(self, item):\n",
        "        self.queue.append(item)\n",
        "\n",
        "    def dequeue(self):\n",
        "        if len(self.queue) <= 0:\n",
        "            return \"Queue is empty\"\n",
        "        else:\n",
        "            return self.queue.pop(0)\n",
        "\n",
        "    def empty_queue(self):\n",
        "        return len(self.queue) == 0\n",
        "\n",
        "\n",
        "AQueue = Queue()\n",
        "for name in [\"H\",\"A\",\"N\",\"N\",\"A\",\"H\",\" T\",\"H\",\"E\",\"A\",\" B\",\"A\",\"D\",\"E\",\"O\",\" D\",\"I\",\"R\",\"E\",\"C\",\"T\",\"O\"]:\n",
        "    AQueue.enqueue(name)\n",
        "\n",
        "print(\"Fullname:\\n\")\n",
        "\n",
        "while not AQueue.empty_queue():\n",
        "    print(AQueue.dequeue(), end=\"\")"
      ],
      "metadata": {
        "colab": {
          "base_uri": "https://localhost:8080/"
        },
        "id": "-nOh5qJuFN8N",
        "outputId": "1ac78ac5-22ba-4491-a0f6-17e848b16952"
      },
      "execution_count": 26,
      "outputs": [
        {
          "output_type": "stream",
          "name": "stdout",
          "text": [
            "Fullname:\n",
            "\n",
            "HANNAH THEA BADEO DIRECTO"
          ]
        }
      ]
    }
  ]
}