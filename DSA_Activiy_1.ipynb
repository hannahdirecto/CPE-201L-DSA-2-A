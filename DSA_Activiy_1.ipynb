{
  "nbformat": 4,
  "nbformat_minor": 0,
  "metadata": {
    "colab": {
      "provenance": [],
      "authorship_tag": "ABX9TyNolSCnWR6sz85qUYTP+yfB",
      "include_colab_link": true
    },
    "kernelspec": {
      "name": "python3",
      "display_name": "Python 3"
    },
    "language_info": {
      "name": "python"
    }
  },
  "cells": [
    {
      "cell_type": "markdown",
      "metadata": {
        "id": "view-in-github",
        "colab_type": "text"
      },
      "source": [
        "<a href=\"https://colab.research.google.com/github/hannahdirecto/CPE-201L-DSA-2-A/blob/main/DSA_Activiy_1.ipynb\" target=\"_parent\"><img src=\"https://colab.research.google.com/assets/colab-badge.svg\" alt=\"Open In Colab\"/></a>"
      ]
    },
    {
      "cell_type": "code",
      "source": [
        "import math\n",
        "\n",
        "def area_from_radius(radius):\n",
        "    return math.pi * (radius ** 2)\n",
        "\n",
        "def area_from_diameter(diameter):\n",
        "    return (math.pi * diameter ** 2) / 4\n",
        "\n",
        "diameter = 10\n",
        "radius = diameter / 2\n",
        "\n",
        "print(\"The area of a circle from radius is\", area_from_radius(radius))\n",
        "print(\"The are of the circle from diameter is\", area_from_diameter(diameter))"
      ],
      "metadata": {
        "colab": {
          "base_uri": "https://localhost:8080/"
        },
        "id": "HYhkjQD52q4r",
        "outputId": "deddc5c2-52e0-45b3-80e5-a07e2d49271d"
      },
      "execution_count": null,
      "outputs": [
        {
          "output_type": "stream",
          "name": "stdout",
          "text": [
            "The area of a circle from radius is 78.53981633974483\n",
            "The are of the circle from diameter is 78.53981633974483\n"
          ]
        }
      ]
    },
    {
      "cell_type": "code",
      "source": [
        "def area_from_radius(radius):\n",
        "    return math.pi * (radius ** 2)\n",
        "\n",
        "radius = int(input(\"Enter the radius: \"))\n",
        "print(\"The area of a circle from radius is\", area_from_radius(radius))"
      ],
      "metadata": {
        "colab": {
          "base_uri": "https://localhost:8080/"
        },
        "id": "i-78-8it5Yok",
        "outputId": "80b81b12-423f-439e-9895-08138cf589e0"
      },
      "execution_count": null,
      "outputs": [
        {
          "output_type": "stream",
          "name": "stdout",
          "text": [
            "Enter the radius: 5\n",
            "The area of a circle from radius is 78.53981633974483\n"
          ]
        }
      ]
    },
    {
      "cell_type": "code",
      "source": [
        "def area_from_diameter(diameter):\n",
        "    return (math.pi * diameter ** 2) / 4\n",
        "\n",
        "diameter = int(input(\"Enter the diameter:\"))\n",
        "print(\"The area of the circle from diameter is\", area_from_diameter(diameter))\n"
      ],
      "metadata": {
        "colab": {
          "base_uri": "https://localhost:8080/"
        },
        "id": "S8XgIOCh4f27",
        "outputId": "ae2ce121-36be-4251-a163-4655732ec41a"
      },
      "execution_count": null,
      "outputs": [
        {
          "output_type": "stream",
          "name": "stdout",
          "text": [
            "Enter the diameter:10\n",
            "The area of the circle from diameter is 78.53981633974483\n"
          ]
        }
      ]
    }
  ]
}