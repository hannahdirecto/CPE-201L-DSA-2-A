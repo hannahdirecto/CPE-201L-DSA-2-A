{
  "nbformat": 4,
  "nbformat_minor": 0,
  "metadata": {
    "colab": {
      "provenance": [],
      "authorship_tag": "ABX9TyM7nLFWGA6kOLXTrqucCEXB",
      "include_colab_link": true
    },
    "kernelspec": {
      "name": "python3",
      "display_name": "Python 3"
    },
    "language_info": {
      "name": "python"
    }
  },
  "cells": [
    {
      "cell_type": "markdown",
      "metadata": {
        "id": "view-in-github",
        "colab_type": "text"
      },
      "source": [
        "<a href=\"https://colab.research.google.com/github/hannahdirecto/CPE-201L-DSA-2-A/blob/main/Lab_Act_2_.ipynb\" target=\"_parent\"><img src=\"https://colab.research.google.com/assets/colab-badge.svg\" alt=\"Open In Colab\"/></a>"
      ]
    },
    {
      "cell_type": "code",
      "execution_count": 2,
      "metadata": {
        "colab": {
          "base_uri": "https://localhost:8080/"
        },
        "id": "FSZqc0bUU7WS",
        "outputId": "55f767bf-c584-4a14-e778-629e060ab514"
      },
      "outputs": [
        {
          "output_type": "stream",
          "name": "stdout",
          "text": [
            "Sum of even scores: 186\n"
          ]
        }
      ],
      "source": [
        "scores = [26, 49, 98, 87, 62, 75]\n",
        "even_sum = 0\n",
        "\n",
        "for score in scores:\n",
        "    if score % 2 == 0:\n",
        "        even_sum += score\n",
        "\n",
        "print(\"Sum of even scores:\", even_sum)"
      ]
    },
    {
      "cell_type": "code",
      "source": [
        "scores = [26, 49, 98, 87, 62, 75]\n",
        "\n",
        "even_sum = sum([score for score in scores if score % 2 == 0])\n",
        "\n",
        "print(\"Sum of even scores:\", even_sum)"
      ],
      "metadata": {
        "colab": {
          "base_uri": "https://localhost:8080/"
        },
        "id": "3L6qObJg1NWW",
        "outputId": "e36cafb9-7e08-4053-b65e-b7b40a3d3d96"
      },
      "execution_count": 6,
      "outputs": [
        {
          "output_type": "stream",
          "name": "stdout",
          "text": [
            "Sum of even scores: 186\n"
          ]
        }
      ]
    }
  ]
}