{
  "nbformat": 4,
  "nbformat_minor": 0,
  "metadata": {
    "colab": {
      "provenance": [],
      "authorship_tag": "ABX9TyPJdrqjB8Hp/RIkM9HEP2lt",
      "include_colab_link": true
    },
    "kernelspec": {
      "name": "python3",
      "display_name": "Python 3"
    },
    "language_info": {
      "name": "python"
    }
  },
  "cells": [
    {
      "cell_type": "markdown",
      "metadata": {
        "id": "view-in-github",
        "colab_type": "text"
      },
      "source": [
        "<a href=\"https://colab.research.google.com/github/hannahdirecto/CPE-201L-DSA-2-A/blob/main/Lab_Act_5_.ipynb\" target=\"_parent\"><img src=\"https://colab.research.google.com/assets/colab-badge.svg\" alt=\"Open In Colab\"/></a>"
      ]
    },
    {
      "cell_type": "code",
      "execution_count": 69,
      "metadata": {
        "colab": {
          "base_uri": "https://localhost:8080/"
        },
        "id": "dQmgI30KF8iN",
        "outputId": "e10f182e-a29a-4def-911b-1472d9ec9598"
      },
      "outputs": [
        {
          "output_type": "stream",
          "name": "stdout",
          "text": [
            "Original array:\n",
            "[1, 2, 3, 4, 5, 6, 7, 8, 9, 10]\n",
            "--------------------------------------\n",
            "Numbers in array:\n",
            "Index 0: 1\n",
            "Index 1: 2\n",
            "Index 2: 3\n",
            "Index 3: 4\n",
            "Index 4: 5\n",
            "Index 5: 6\n",
            "Index 6: 7\n",
            "Index 7: 8\n",
            "Index 8: 9\n",
            "Index 9: 10\n",
            "--------------------------------------\n",
            "Sum of all numbers: 55\n",
            "--------------------------------------\n",
            "Enter a number to append:25\n",
            "Updated array:\n",
            "[1, 2, 3, 4, 5, 6, 7, 8, 9, 10, 25]\n",
            "--------------------------------------\n",
            "Enter a number to insert:21\n",
            "Updated array:\n",
            "[1, 21, 2, 3, 4, 5, 6, 7, 8, 9, 10, 25]\n",
            "--------------------------------------\n",
            "Reversing the array:\n",
            "[1, 2, 3, 4, 5]\n",
            "--------------------------------------\n",
            "Length of the array: 5\n"
          ]
        }
      ],
      "source": [
        "numbers = [ 1,2,3,4,5,6,7,8,9,10]\n",
        "\n",
        "print(\"Original array:\")\n",
        "print(numbers)\n",
        "print(\"--------------------------------------\")\n",
        "\n",
        "def num_array(numbers):\n",
        "     for i, element in enumerate(numbers):\n",
        "        print(f\"Index {i}: {element}\")\n",
        "\n",
        "print(\"Numbers in array:\")\n",
        "num_array(numbers)\n",
        "print(\"--------------------------------------\")\n",
        "\n",
        "def sum_array():\n",
        "    sum_numbers = sum(numbers)\n",
        "    print(\"Sum of all numbers:\", sum_numbers)\n",
        "sum_array()\n",
        "print(\"--------------------------------------\")\n",
        "\n",
        "def append_array(numbers):\n",
        "    value = int(input(\"Enter a number to append:\"))\n",
        "    numbers.append(value)\n",
        "    print(\"Updated array:\")\n",
        "    print(numbers)\n",
        "append_array(numbers)\n",
        "print(\"--------------------------------------\")\n",
        "\n",
        "def insert_array(numbers):\n",
        "    index = (1)\n",
        "    value = int(input(\"Enter a number to insert:\"))\n",
        "    numbers.insert(index, value)\n",
        "    print(\"Updated array:\")\n",
        "    print(numbers)\n",
        "insert_array(numbers)\n",
        "print(\"--------------------------------------\")\n",
        "\n",
        "numbers = [5,4,3,2,1]\n",
        "def reverse_array(arr):\n",
        "     print(\"Reversing the array:\")\n",
        "     reversed = numbers[::-1]\n",
        "     print(reversed)\n",
        "reverse_array(numbers)\n",
        "print(\"--------------------------------------\")\n",
        "\n",
        "def len_array(numbers):\n",
        "    print(\"Length of the array:\", len(numbers))\n",
        "len_array(numbers)"
      ]
    },
    {
      "cell_type": "code",
      "source": [],
      "metadata": {
        "id": "udTt4KVkHDYZ"
      },
      "execution_count": null,
      "outputs": []
    }
  ]
}