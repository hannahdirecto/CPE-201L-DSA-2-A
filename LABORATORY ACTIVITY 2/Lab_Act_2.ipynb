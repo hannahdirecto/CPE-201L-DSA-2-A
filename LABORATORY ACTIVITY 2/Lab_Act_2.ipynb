{
  "nbformat": 4,
  "nbformat_minor": 0,
  "metadata": {
    "colab": {
      "provenance": [],
      "authorship_tag": "ABX9TyNUIGxbotaMaSFjjm+7jX/Z",
      "include_colab_link": true
    },
    "kernelspec": {
      "name": "python3",
      "display_name": "Python 3"
    },
    "language_info": {
      "name": "python"
    }
  },
  "cells": [
    {
      "cell_type": "markdown",
      "metadata": {
        "id": "view-in-github",
        "colab_type": "text"
      },
      "source": [
        "<a href=\"https://colab.research.google.com/github/hannahdirecto/CPE-201L-DSA-2-A/blob/main/Lab_Act_2.ipynb\" target=\"_parent\"><img src=\"https://colab.research.google.com/assets/colab-badge.svg\" alt=\"Open In Colab\"/></a>"
      ]
    },
    {
      "cell_type": "code",
      "execution_count": 8,
      "metadata": {
        "colab": {
          "base_uri": "https://localhost:8080/"
        },
        "id": "eTf5SGlV5-Ex",
        "outputId": "c926fdc6-be24-46ef-ba23-ae3fff275400"
      },
      "outputs": [
        {
          "output_type": "stream",
          "name": "stdout",
          "text": [
            "Min: 21\n",
            "Max: 25\n"
          ]
        }
      ],
      "source": [
        "def find_min_max(seq):\n",
        "    if len(seq) == 1:\n",
        "        return seq[0], seq[0]\n",
        "    else:\n",
        "        min_rest, max_rest = find_min_max(seq[1:])\n",
        "        return min(seq[0], min_rest), max(seq[0], max_rest)\n",
        "\n",
        "nums = [21, 22, 23, 24, 25]\n",
        "min_val, max_val = find_min_max(nums)\n",
        "print(\"Min:\", min_val)\n",
        "print(\"Max:\", max_val)"
      ]
    }
  ]
}