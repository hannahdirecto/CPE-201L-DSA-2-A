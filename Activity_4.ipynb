{
  "nbformat": 4,
  "nbformat_minor": 0,
  "metadata": {
    "colab": {
      "provenance": [],
      "authorship_tag": "ABX9TyOES3KScrE5S1itFWkYiUUW",
      "include_colab_link": true
    },
    "kernelspec": {
      "name": "python3",
      "display_name": "Python 3"
    },
    "language_info": {
      "name": "python"
    }
  },
  "cells": [
    {
      "cell_type": "markdown",
      "metadata": {
        "id": "view-in-github",
        "colab_type": "text"
      },
      "source": [
        "<a href=\"https://colab.research.google.com/github/hannahdirecto/CPE-201L-DSA-2-A/blob/main/Activity_4.ipynb\" target=\"_parent\"><img src=\"https://colab.research.google.com/assets/colab-badge.svg\" alt=\"Open In Colab\"/></a>"
      ]
    },
    {
      "cell_type": "code",
      "source": [
        "class Queue:\n",
        "    def __init__(self, max_size=None):\n",
        "        self.queue = []\n",
        "        self.max_size = max_size  # Optional max size for full_queue()\n",
        "\n",
        "    def enqueue(self, dataval):\n",
        "        if self.max_size is not None and len(self.queue) >= self.max_size:\n",
        "            return False  # Queue is full\n",
        "        if dataval not in self.queue:\n",
        "            self.queue.append(dataval)\n",
        "            return True\n",
        "        else:\n",
        "            return False\n",
        "\n",
        "    def dequeue(self):\n",
        "        if len(self.queue) <= 0:\n",
        "            return \"\\nQueue is empty\"\n",
        "        else:\n",
        "            return self.queue.pop(0)\n",
        "\n",
        "    def display(self):\n",
        "        for item in self.queue:\n",
        "            print(item)\n",
        "\n",
        "    def empty_queue(self):\n",
        "        return len(self.queue) == 0\n",
        "\n",
        "    def full_queue(self):\n",
        "        if self.max_size is None:\n",
        "            return False\n",
        "        return len(self.queue) >= self.max_size\n",
        "\n",
        "    def top_element(self):\n",
        "        if not self.queue:\n",
        "            return \"Queue is empty\"\n",
        "        return self.queue[0]\n",
        "\n",
        "    def head_queue(self):\n",
        "        return self.top_element()\n",
        "\n",
        "    def tail_queue(self):\n",
        "        if not self.queue:\n",
        "            return \"Queue is empty\"\n",
        "        return self.queue[-1]\n",
        "\n",
        "AQueue = Queue()\n",
        "AQueue.enqueue(\"Sun\")\n",
        "AQueue.enqueue(\"Mon\")\n",
        "AQueue.enqueue(\"Tue\")\n",
        "AQueue.enqueue(\"Wed\")\n",
        "AQueue.enqueue(\"Thu\")\n",
        "AQueue.enqueue(\"Fri\")\n",
        "AQueue.enqueue(\"Sat\")\n",
        "\n",
        "print(\"Dequeued:\", AQueue.dequeue())\n",
        "print(\"Dequeued:\", AQueue.dequeue())\n",
        "\n",
        "print(\"\\nQueue contents:\")\n",
        "AQueue.display()\n",
        "\n",
        "print(\"\\nIs queue empty?\", AQueue.empty_queue())\n",
        "print(\"\\nHead element:\", AQueue.head_queue())\n",
        "print(\"Tail element:\", AQueue.tail_queue())\n"
      ],
      "metadata": {
        "colab": {
          "base_uri": "https://localhost:8080/"
        },
        "id": "XGASolTofz3x",
        "outputId": "6907b1d0-7eaa-4382-9f9f-d34b8daaaa6c"
      },
      "execution_count": 10,
      "outputs": [
        {
          "output_type": "stream",
          "name": "stdout",
          "text": [
            "Dequeued: Sun\n",
            "Dequeued: Mon\n",
            "\n",
            "Queue contents:\n",
            "Tue\n",
            "Wed\n",
            "Thu\n",
            "Fri\n",
            "Sat\n",
            "\n",
            "Is queue empty? False\n",
            "\n",
            "Head element: Tue\n",
            "Tail element: Sat\n"
          ]
        }
      ]
    }
  ]
}