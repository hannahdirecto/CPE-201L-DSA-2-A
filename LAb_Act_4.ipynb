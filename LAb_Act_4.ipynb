{
  "nbformat": 4,
  "nbformat_minor": 0,
  "metadata": {
    "colab": {
      "provenance": [],
      "authorship_tag": "ABX9TyOMatfeATbi/3/gPDUgodUq",
      "include_colab_link": true
    },
    "kernelspec": {
      "name": "python3",
      "display_name": "Python 3"
    },
    "language_info": {
      "name": "python"
    }
  },
  "cells": [
    {
      "cell_type": "markdown",
      "metadata": {
        "id": "view-in-github",
        "colab_type": "text"
      },
      "source": [
        "<a href=\"https://colab.research.google.com/github/hannahdirecto/CPE-201L-DSA-2-A/blob/main/LAb_Act_4.ipynb\" target=\"_parent\"><img src=\"https://colab.research.google.com/assets/colab-badge.svg\" alt=\"Open In Colab\"/></a>"
      ]
    },
    {
      "cell_type": "code",
      "execution_count": null,
      "metadata": {
        "colab": {
          "base_uri": "https://localhost:8080/"
        },
        "id": "PM64hAFb-rlm",
        "outputId": "2757826e-116d-48f0-f492-41b088afc41f"
      },
      "outputs": [
        {
          "output_type": "stream",
          "name": "stdout",
          "text": [
            "Jenna's Grocery List\n",
            "\n",
            "--- Fruits ---\n",
            "Apple- PHP 10 x 7 = PHP 70\n",
            "Banana- PHP 10 x 8 = PHP 80\n",
            "\n",
            "--- Vegetables ---\n",
            "Broccoli- PHP 60 x 12 = PHP 720\n",
            "Lettuce- PHP 50 x 10 = PHP 500\n"
          ]
        }
      ],
      "source": [
        "class Fruit:\n",
        "    def __init__(self, name, price, quntity):\n",
        "        self.name = name\n",
        "        self.price = price\n",
        "        self.quantity = quntity\n",
        "\n",
        "    def total_price(self):\n",
        "        return self.price * self.quantity\n",
        "\n",
        "    def display(self):\n",
        "        print(f\"{self.name}- PHP {self.price} x {self.quantity} = PHP {self.total_price()}\")\n",
        "\n",
        "class Vegetable:\n",
        "    def __init__(self, name, price, quantity):\n",
        "        self.name = name\n",
        "        self.price = price\n",
        "        self.quantity = quantity\n",
        "\n",
        "    def total_price(self):\n",
        "        return self.price * self.quantity\n",
        "\n",
        "    def display(self):\n",
        "        print(f\"{self.name}- PHP {self.price} x {self.quantity} = PHP {self.total_price()}\")\n",
        "\n",
        "\n",
        "def sum_total_price(items):\n",
        "    total = 0\n",
        "    for item in items:\n",
        "        total += item.total_price()\n",
        "    return total\n",
        "\n",
        "if __name__ == \"__main__\":\n",
        "\n",
        "    fruits = [Fruit(\"Apple\", 10, 7),\n",
        "              Fruit(\"Banana\", 10, 8)]\n",
        "\n",
        "    vegetables = [Vegetable(\"Broccoli\", 60, 12),\n",
        "                  Vegetable(\"Lettuce\", 50, 10)]\n",
        "\n",
        "#PROBLEM 1\n",
        "    print(\"Jenna's Grocery List\")\n",
        "    print(\"\\n--- Fruits ---\")\n",
        "    for fruit in fruits:\n",
        "        if fruit:\n",
        "            fruit.display()\n",
        "\n",
        "    print(\"\\n--- Vegetables ---\")\n",
        "    for veg in vegetables:\n",
        "        if veg:\n",
        "            veg.display()"
      ]
    },
    {
      "cell_type": "code",
      "source": [
        "\n",
        "#PROBLEM 1\n",
        "print(\"--- Fruits ---\")\n",
        "for fruit in fruits:\n",
        "        if fruit:\n",
        "            fruit.display()\n",
        "\n",
        "print(\"--- Vegetables ---\")\n",
        "for veg in vegetables:\n",
        "        if veg:\n",
        "            veg.display()\n",
        "#PROBLEM 2\n",
        "GroceryList = fruits + vegetables\n",
        "\n",
        "print(\"\\nJenna's Grocery List\\n\")\n",
        "for item in GroceryList:\n",
        "    item.display()\n",
        "\n",
        "print(f\"\\nTotal Price: PHP {sum_total_price(GroceryList)}\")"
      ],
      "metadata": {
        "colab": {
          "base_uri": "https://localhost:8080/"
        },
        "id": "5Lr8J1PcRcLR",
        "outputId": "a27ec775-b0df-4f06-b187-3ff0bad8d35f"
      },
      "execution_count": 23,
      "outputs": [
        {
          "output_type": "stream",
          "name": "stdout",
          "text": [
            "--- Fruits ---\n",
            "Apple- PHP 10 x 7 = PHP 70\n",
            "Banana- PHP 10 x 8 = PHP 80\n",
            "--- Vegetables ---\n",
            "Broccoli- PHP 60 x 12 = PHP 720\n",
            "Lettuce- PHP 50 x 10 = PHP 500\n",
            "\n",
            "Jenna's Grocery List\n",
            "\n",
            "Apple- PHP 10 x 7 = PHP 70\n",
            "Banana- PHP 10 x 8 = PHP 80\n",
            "Broccoli- PHP 60 x 12 = PHP 720\n",
            "Lettuce- PHP 50 x 10 = PHP 500\n",
            "\n",
            "Total Price: PHP 1370\n"
          ]
        }
      ]
    }
  ]
}