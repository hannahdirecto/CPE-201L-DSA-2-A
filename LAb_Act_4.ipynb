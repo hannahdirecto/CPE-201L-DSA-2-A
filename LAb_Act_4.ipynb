{
  "nbformat": 4,
  "nbformat_minor": 0,
  "metadata": {
    "colab": {
      "provenance": [],
      "authorship_tag": "ABX9TyNWZoYPTvOdPpi5yfN44LQ1",
      "include_colab_link": true
    },
    "kernelspec": {
      "name": "python3",
      "display_name": "Python 3"
    },
    "language_info": {
      "name": "python"
    }
  },
  "cells": [
    {
      "cell_type": "markdown",
      "metadata": {
        "id": "view-in-github",
        "colab_type": "text"
      },
      "source": [
        "<a href=\"https://colab.research.google.com/github/hannahdirecto/CPE-201L-DSA-2-A/blob/main/LAb_Act_4.ipynb\" target=\"_parent\"><img src=\"https://colab.research.google.com/assets/colab-badge.svg\" alt=\"Open In Colab\"/></a>"
      ]
    },
    {
      "cell_type": "code",
      "source": [
        "class Fruit():\n",
        "    def __init__(self, name, price, quantity):\n",
        "        self.name = name\n",
        "        self.price = price\n",
        "        self.quantity = quantity\n",
        "\n",
        "    def total_price(self):\n",
        "        return self.price * self.quantity\n",
        "\n",
        "    def display(self):\n",
        "        print(f\"[Fruit] {self.name} - PHP {self.price} x {self.quantity} = PHP {self.total_price()}\")\n",
        "\n",
        "    def __del__(self):\n",
        "        pass\n",
        "\n",
        "    def copy(self):\n",
        "        pass\n",
        "\n",
        "class Vegetable():\n",
        "    def __init__(self, name, price, quantity):\n",
        "        self.name = name\n",
        "        self.price = price\n",
        "        self.quantity = quantity\n",
        "\n",
        "    def total_price(self):\n",
        "        return self.price * self.quantity\n",
        "\n",
        "    def display(self):\n",
        "        print(f\"[Vegetable] {self.name} - PHP {self.price} x {self.quantity} = PHP {self.total_price()}\")\n",
        "\n",
        "    def __del__(self):\n",
        "        pass\n",
        "\n",
        "    def copy(self):\n",
        "        pass\n",
        "\n",
        "\n",
        "def sum_total_price(items):\n",
        "    return sum(item.total_price() for item in items)\n",
        "\n",
        "if __name__ == \"__main__\":\n",
        "\n",
        "# Problem 1 & 2: Create the grocery list\n",
        "    fruits = [\n",
        "        Fruit(\"Apple\", 10, 7),\n",
        "        Fruit(\"Banana\", 10, 8)\n",
        "    ]\n",
        "\n",
        "    vegetables = [\n",
        "        Vegetable(\"Broccoli\", 60, 12),\n",
        "        Vegetable(\"Lettuce\", 50, 10)\n",
        "   ]\n",
        "\n",
        "    GroceryList = fruits + vegetables\n",
        "\n",
        "# Display the full grocery list\n",
        "    print(\"____Jenna's Grocery List____\\n\")\n",
        "    for item in GroceryList:\n",
        "        item.display()\n",
        "\n",
        "# Problem 3: Total Cost\n",
        "    print(f\"\\nTotal Price: PHP {sum_total_price(GroceryList)}\")\n",
        "    print(\"------------------------------------------\")\n",
        "\n",
        "# Problem 4\n",
        "    print(\"Removing Lettuce from the Grocery List...\\n\")\n",
        "    for item in GroceryList:\n",
        "        if type(item).__name__ == \"Vegetable\" and item.name.lower() == \"lettuce\":\n",
        "            print(\"Vegetable 'Lettuce' has been deleted.\\n\")\n",
        "            GroceryList.remove(item)\n",
        "            del item\n",
        "            break\n",
        "\n",
        "# Updated grocery list\n",
        "    print(\"_____Updated Grocery List_____\\n\")\n",
        "    for item in GroceryList:\n",
        "        item.display()\n",
        "\n",
        "    print(f\"\\nTotal Price: PHP {sum_total_price(GroceryList)}\")\n"
      ],
      "metadata": {
        "id": "B-ZLaEZrxslB",
        "outputId": "ed13263a-8647-4922-a844-9a3c1379852b",
        "colab": {
          "base_uri": "https://localhost:8080/"
        }
      },
      "execution_count": 14,
      "outputs": [
        {
          "output_type": "stream",
          "name": "stdout",
          "text": [
            "____Jenna's Grocery List____\n",
            "\n",
            "[Fruit] Apple - PHP 10 x 7 = PHP 70\n",
            "[Fruit] Banana - PHP 10 x 8 = PHP 80\n",
            "[Vegetable] Broccoli - PHP 60 x 12 = PHP 720\n",
            "[Vegetable] Lettuce - PHP 50 x 10 = PHP 500\n",
            "\n",
            "Total Price: PHP 1370\n",
            "------------------------------------------\n",
            "Removing Lettuce from the Grocery List...\n",
            "\n",
            "Vegetable 'Lettuce' has been deleted.\n",
            "\n",
            "_____Updated Grocery List_____\n",
            "\n",
            "[Fruit] Apple - PHP 10 x 7 = PHP 70\n",
            "[Fruit] Banana - PHP 10 x 8 = PHP 80\n",
            "[Vegetable] Broccoli - PHP 60 x 12 = PHP 720\n",
            "\n",
            "Total Price: PHP 870\n"
          ]
        }
      ]
    }
  ]
}