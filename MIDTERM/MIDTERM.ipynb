{
  "nbformat": 4,
  "nbformat_minor": 0,
  "metadata": {
    "colab": {
      "provenance": [],
      "authorship_tag": "ABX9TyP9p4HRfumAGlHSvo3by9fs",
      "include_colab_link": true
    },
    "kernelspec": {
      "name": "python3",
      "display_name": "Python 3"
    },
    "language_info": {
      "name": "python"
    }
  },
  "cells": [
    {
      "cell_type": "markdown",
      "metadata": {
        "id": "view-in-github",
        "colab_type": "text"
      },
      "source": [
        "<a href=\"https://colab.research.google.com/github/hannahdirecto/CPE-201L-DSA-2-A/blob/main/MIDTERM.ipynb\" target=\"_parent\"><img src=\"https://colab.research.google.com/assets/colab-badge.svg\" alt=\"Open In Colab\"/></a>"
      ]
    },
    {
      "cell_type": "code",
      "source": [
        "class Node:\n",
        "    def __init__(self, data):\n",
        "        self.data = data\n",
        "        self.next = None\n",
        "\n",
        "\n",
        "def display(head):\n",
        "    current = head\n",
        "    while current:\n",
        "        print(current.data, end=\" \")\n",
        "        current = current.next\n",
        "    print()\n",
        "\n",
        "\n",
        "def append(head, value):\n",
        "    if value % 2 == 0:\n",
        "        print(\"Please type an odd number\")\n",
        "        return\n",
        "    new_node = Node(value)\n",
        "    current = head\n",
        "    while current.next:\n",
        "        current = current.next\n",
        "    current.next = new_node\n",
        "\n",
        "\n",
        "def delete(head, value):\n",
        "    if value % 2 == 0:\n",
        "        print(\"Please type an odd number\")\n",
        "        return\n",
        "    current = head\n",
        "    prev = None\n",
        "    while current and current.data != value:\n",
        "        prev = current\n",
        "        current = current.next\n",
        "    if current:\n",
        "        if prev is None:\n",
        "            head = current.next\n",
        "        else:\n",
        "            prev.next = current.next\n",
        "    return head\n",
        "\n",
        "ODD_NO = Node(1)\n",
        "current = ODD_NO\n",
        "for i in range(3, 30, 2):\n",
        "    current.next = Node(i)\n",
        "    current = current.next\n",
        "\n",
        "print(\"Odd Numbers from 1 - 30:\\n\", end=\" \")\n",
        "display(ODD_NO)\n",
        "\n",
        "\n",
        "append(ODD_NO, (int(input(\"\\nType an odd number to add: \"))))\n",
        "print(\"\\nAfter appending:\\n\", end=\" \")\n",
        "display(ODD_NO)\n",
        "\n",
        "\n",
        "head = delete(ODD_NO, int(input(\"\\nType a number to delete: \")))\n",
        "print(\"\\nAfter deleting:\\n\", end=\" \")\n",
        "display(ODD_NO)"
      ],
      "metadata": {
        "colab": {
          "base_uri": "https://localhost:8080/"
        },
        "id": "CiX-x69KJN3G",
        "outputId": "e1f28823-b568-46cf-e9d7-9b383bddf08f"
      },
      "execution_count": 13,
      "outputs": [
        {
          "output_type": "stream",
          "name": "stdout",
          "text": [
            "Odd Numbers from 1 - 30:\n",
            " 1 3 5 7 9 11 13 15 17 19 21 23 25 27 29 \n",
            "\n",
            "Type an odd number to add: 31\n",
            "\n",
            "After appending:\n",
            " 1 3 5 7 9 11 13 15 17 19 21 23 25 27 29 31 \n",
            "\n",
            "Type a number to delete: 21\n",
            "\n",
            "After deleting:\n",
            " 1 3 5 7 9 11 13 15 17 19 23 25 27 29 31 \n"
          ]
        }
      ]
    }
  ]
}