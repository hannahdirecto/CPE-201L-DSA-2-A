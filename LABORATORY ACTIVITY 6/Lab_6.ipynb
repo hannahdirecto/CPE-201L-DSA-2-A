{
  "nbformat": 4,
  "nbformat_minor": 0,
  "metadata": {
    "colab": {
      "provenance": [],
      "authorship_tag": "ABX9TyMnydzX5U9pP7ld0WwzcJOn",
      "include_colab_link": true
    },
    "kernelspec": {
      "name": "python3",
      "display_name": "Python 3"
    },
    "language_info": {
      "name": "python"
    }
  },
  "cells": [
    {
      "cell_type": "markdown",
      "metadata": {
        "id": "view-in-github",
        "colab_type": "text"
      },
      "source": [
        "<a href=\"https://colab.research.google.com/github/hannahdirecto/CPE-201L-DSA-2-A/blob/main/Lab_6.ipynb\" target=\"_parent\"><img src=\"https://colab.research.google.com/assets/colab-badge.svg\" alt=\"Open In Colab\"/></a>"
      ]
    },
    {
      "cell_type": "code",
      "execution_count": 13,
      "metadata": {
        "colab": {
          "base_uri": "https://localhost:8080/"
        },
        "id": "Al_1EgJTJo1j",
        "outputId": "7a81a9a7-9707-46e9-c92a-d29910eee629"
      },
      "outputs": [
        {
          "output_type": "stream",
          "name": "stdout",
          "text": [
            "Prime numbers from 1 to 20:\n",
            "2 3 5 7 11 13 17 19 \n",
            "\n",
            "Head: 2\n",
            "Tail: 19\n"
          ]
        }
      ],
      "source": [
        "class Node:\n",
        "    def __init__(self, data):\n",
        "        self.data = data\n",
        "        self.next = None\n",
        "\n",
        "class LinkedList:\n",
        "    def __init__(self):\n",
        "        self.head = None\n",
        "        self.tail = None\n",
        "\n",
        "    def prime_num(self, num):\n",
        "        if num <= 1:\n",
        "            return False\n",
        "        for i in range(2, int(num ** 0.5) + 1):\n",
        "            if num % i == 0:\n",
        "                return False\n",
        "        return True\n",
        "\n",
        "    def append_if_prime(self, data):\n",
        "        if not self.prime_num(data):\n",
        "            return\n",
        "\n",
        "        new_node = Node(data)\n",
        "        if not self.head:\n",
        "            self.head = self.tail = new_node\n",
        "        else:\n",
        "            self.tail.next = new_node\n",
        "            self.tail = new_node\n",
        "\n",
        "    def display(self):\n",
        "        current = self.head\n",
        "        print(\"Prime numbers from 1 to 20:\")\n",
        "        while current:\n",
        "            print(current.data, end=' ')\n",
        "            current = current.next\n",
        "        print()\n",
        "\n",
        "        if self.head:\n",
        "            print(f\"\\nHead: {self.head.data}\")\n",
        "        else:\n",
        "            print(\"Head: None\")\n",
        "\n",
        "        if self.tail:\n",
        "            print(f\"Tail: {self.tail.data}\")\n",
        "        else:\n",
        "            print(\"Tail: None\")\n",
        "\n",
        "\n",
        "linked_list = LinkedList()\n",
        "for i in range(1, 21):\n",
        "    linked_list.append_if_prime(i)\n",
        "\n",
        "linked_list.display()"
      ]
    }
  ]
}