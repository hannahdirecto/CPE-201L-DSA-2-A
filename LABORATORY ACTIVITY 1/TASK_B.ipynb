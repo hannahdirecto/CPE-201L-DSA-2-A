{
  "nbformat": 4,
  "nbformat_minor": 0,
  "metadata": {
    "colab": {
      "provenance": [],
      "authorship_tag": "ABX9TyOQ97Qyhr95hixvb5922WfJ",
      "include_colab_link": true
    },
    "kernelspec": {
      "name": "python3",
      "display_name": "Python 3"
    },
    "language_info": {
      "name": "python"
    }
  },
  "cells": [
    {
      "cell_type": "markdown",
      "metadata": {
        "id": "view-in-github",
        "colab_type": "text"
      },
      "source": [
        "<a href=\"https://colab.research.google.com/github/hannahdirecto/CPE-201L-DSA-2-A/blob/main/TASK_B(LAB_ACT_1).ipynb\" target=\"_parent\"><img src=\"https://colab.research.google.com/assets/colab-badge.svg\" alt=\"Open In Colab\"/></a>"
      ]
    },
    {
      "cell_type": "code",
      "execution_count": 11,
      "metadata": {
        "colab": {
          "base_uri": "https://localhost:8080/"
        },
        "id": "aa2xkF-og3s5",
        "outputId": "cbb759b6-8c56-415d-b073-04b249873e02"
      },
      "outputs": [
        {
          "output_type": "stream",
          "name": "stdout",
          "text": [
            "Enter the name of the polygon: pentagon\n",
            "Enter the number of sides of the polygon: 5\n",
            "Enter the area of the polygon: 45\n",
            "\n",
            "Name: pentagon\n",
            "Number of sides: 5\n",
            "Area: 45.0\n"
          ]
        }
      ],
      "source": [
        "class Polygons:\n",
        "    def __init__(self, name: str, sides: int, area: float):\n",
        "        self._name = name\n",
        "        self._sides = sides\n",
        "        self._area = area\n",
        "\n",
        "    def set_name(self, name: str):\n",
        "        self._name = name\n",
        "\n",
        "    def set_sides(self, sides: int):\n",
        "        self._sides = sides\n",
        "\n",
        "    def set_area(self, area: float):\n",
        "        self._area = area\n",
        "\n",
        "    def get_name(self) -> str:\n",
        "        return self._name\n",
        "\n",
        "    def get_sides(self) -> int:\n",
        "        return self._sides\n",
        "\n",
        "    def get_area(self) -> float:\n",
        "        return self._area\n",
        "\n",
        "name = input(\"Enter the name of the polygon: \")\n",
        "sides = int(input(\"Enter the number of sides of the polygon: \"))\n",
        "area = float(input(\"Enter the area of the polygon: \"))\n",
        "\n",
        "polygon = Polygons(name, sides, area)\n",
        "print(f\"\\nName: {polygon.get_name()}\")\n",
        "print(f\"Number of sides: {polygon.get_sides()}\")\n",
        "print(f\"Area: {polygon.get_area()}\")\n"
      ]
    }
  ]
}